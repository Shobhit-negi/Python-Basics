{
  "nbformat": 4,
  "nbformat_minor": 0,
  "metadata": {
    "colab": {
      "provenance": []
    },
    "kernelspec": {
      "name": "python3",
      "display_name": "Python 3"
    },
    "language_info": {
      "name": "python"
    }
  },
  "cells": [
    {
      "cell_type": "code",
      "source": [],
      "metadata": {
        "id": "TF2QLPFK8rdf"
      },
      "execution_count": null,
      "outputs": []
    },
    {
      "cell_type": "markdown",
      "source": [
        "# Python Basics Questions\n",
        "\n",
        "1. What is Python, and why is it popular?\n",
        "   - Python is a computer language used to give instructions to computers. It's popular because of the following reasons.\n",
        "   \n",
        "    a) Widely used in the industry,\n",
        "    b) Mostly in data industry,\n",
        "    c) It has a lot of libraries eg: Numpy, Pandas,\n",
        "    d) Ease of learning,\n",
        "    e) Versalities eg: Web dev, Machine learning etc.,\n",
        "    f) Front end, backend, data analysis (use cases),\n",
        "    g) Huge community suport,\n",
        "    h) can interact with tools i.e can integrate with other language\n",
        "\n",
        "\n",
        "2. What is an interpreter in Python?\n",
        "   - An interpreter is like a translator. It reads the Python code line by line and runs it.\n",
        "\n",
        "3. What are pre-defined keywords in Python?\n",
        "  - They are predefined words that holds a special meaning and have specific purpose. We canot use them for other purposes eg: naming variables.\n",
        "\n",
        "4. Can keywords be used as variable names?\n",
        "  - No. As they are reserved for the Python itself. They are special words that Python already understands (like if, for, True).\n",
        "\n",
        "5. What is mutability in Python?\n",
        "   - Mutability means whether something can be changed. If something is mutable, you can change it. If it's immutable, you can't.\n",
        "\n",
        "6. Why are lists mutable, but tuples are immutable?\n",
        "   - Lists can be changed after they are made (we can add, remove, or update them). Tuples cannot be changed once they are made—like a locked box.\n",
        "\n",
        "7. What is the difference between “==” and “is” operators in Python?\n",
        "   - \"==\" checks if two things look the same. Whereas, \"is\" checks if two things are the same exact object in the memory.\n",
        "\n",
        "8. What are logical operators in Python?\n",
        "   - Logical operators help make decisions:\n",
        "   \n",
        "     AND (both inputs must be true)\n",
        "   \n",
        "     OR (at least one input must be true)\n",
        "   \n",
        "    NOT (opposite of input)\n",
        "  \n",
        "    NOTE: input can be the condition. Not just booleab 0 or 1 (false or true).\n",
        "\n",
        "\n",
        "9. What is type casting in Python?\n",
        "   - Changing one type of value into another. eg, turning a string \"10\" into a number 10.\n",
        "   \n",
        "     a=\"10\"\n",
        "   \n",
        "     b= int(a)\n",
        "\n",
        "    here we are converting string 10 into integer.\n",
        "\n",
        "10. What is the difference between implicit and explicit type casting?\n",
        "   - Implicit: Python changes the type automatically.\n",
        "   - Explicit: We tell Python to change it using functions like int(), float().\n",
        "\n",
        "11. What is the purpose of conditional statements in Python?\n",
        "   - Conditional statements like if help the computer make decisions.eg:\n",
        "     \n",
        "     age = 18\n",
        "\n",
        "     if age >= 18:\n",
        "   \n",
        "      print(\"You are an adult.\")\n",
        "\n",
        "      else:\n",
        "   \n",
        "      print(\"You are not an adult.\")\n",
        "\n",
        "     We made a variable called age and gave it the value 18. Then we used an if statement to check: Is the age 18 or more?\n",
        "\n",
        "     If yes, it prints: \"You are an adult.\"\n",
        "\n",
        "     If no, it prints: \"You are not an adult.\"\n",
        "\n",
        "     So, the if...else is like asking a question and taking action based on the answer.\n",
        "\n",
        "12. How does the elif statement work?\n",
        "    - elif means \"else if\". It gives more options to check if the first condition was not true.\n",
        "\n",
        "13. What is the difference between for and while loops?\n",
        "    - \"for\" is used when we know how many times we want to repeat something However, \"while\" is used when we want to repeat until something happens.\n",
        "\n",
        "14. Describe a scenario where a while loop is more suitable than a for loop.\n",
        "  - When we are asking a user to enter a correct password and don't know how many tries they'll need—we use a while loop.\n",
        "\n",
        "\n",
        "\n",
        "\n",
        "\n",
        "\n",
        "\n",
        "\n",
        "\n",
        "\n",
        "\n",
        "   \n",
        "\n",
        "  \n",
        "\n",
        "\n"
      ],
      "metadata": {
        "id": "7Y8BzUxP8r9x"
      }
    },
    {
      "cell_type": "markdown",
      "source": [
        "#Practical Questions\n"
      ],
      "metadata": {
        "id": "QhH4wCdZEdPB"
      }
    },
    {
      "cell_type": "code",
      "source": [
        "#1. Write a Python program to print \"Hello, World!y\n",
        "\n",
        "print(\"Hello, World!\")"
      ],
      "metadata": {
        "colab": {
          "base_uri": "https://localhost:8080/"
        },
        "id": "AayMYAadEbw5",
        "outputId": "c3ab9f08-87be-4038-a616-4a49a54a96d0"
      },
      "execution_count": 2,
      "outputs": [
        {
          "output_type": "stream",
          "name": "stdout",
          "text": [
            "Hello, World!\n"
          ]
        }
      ]
    },
    {
      "cell_type": "code",
      "source": [
        "#2. Write a Python program that displays your name and age\n",
        "name = \"John\"\n",
        "age = 25\n",
        "print(\"Name:\", name)\n",
        "print(\"Age:\", age)\n"
      ],
      "metadata": {
        "colab": {
          "base_uri": "https://localhost:8080/"
        },
        "id": "3Ro8fvmeEy6Z",
        "outputId": "14449d61-2417-4a33-bc5f-dada4e20fd4b"
      },
      "execution_count": 3,
      "outputs": [
        {
          "output_type": "stream",
          "name": "stdout",
          "text": [
            "Name: John\n",
            "Age: 25\n"
          ]
        }
      ]
    },
    {
      "cell_type": "code",
      "source": [
        "#3. Write code to print all the pre-defined keywords in Python using the keyword library.\n",
        "import keyword\n",
        "print(keyword.kwlist)"
      ],
      "metadata": {
        "colab": {
          "base_uri": "https://localhost:8080/"
        },
        "id": "-n7dYKE4Fcv_",
        "outputId": "8460546e-3dc4-4912-91a4-0b6d49b143ca"
      },
      "execution_count": 5,
      "outputs": [
        {
          "output_type": "stream",
          "name": "stdout",
          "text": [
            "['False', 'None', 'True', 'and', 'as', 'assert', 'async', 'await', 'break', 'class', 'continue', 'def', 'del', 'elif', 'else', 'except', 'finally', 'for', 'from', 'global', 'if', 'import', 'in', 'is', 'lambda', 'nonlocal', 'not', 'or', 'pass', 'raise', 'return', 'try', 'while', 'with', 'yield']\n"
          ]
        }
      ]
    },
    {
      "cell_type": "code",
      "source": [
        "#3. Alternate answer\n",
        "\n",
        "help(\"keywords\")"
      ],
      "metadata": {
        "colab": {
          "base_uri": "https://localhost:8080/"
        },
        "id": "V9M940EKFqqo",
        "outputId": "7eae8b88-c260-4cbd-82d1-073de428c5c5"
      },
      "execution_count": 6,
      "outputs": [
        {
          "output_type": "stream",
          "name": "stdout",
          "text": [
            "\n",
            "Here is a list of the Python keywords.  Enter any keyword to get more help.\n",
            "\n",
            "False               class               from                or\n",
            "None                continue            global              pass\n",
            "True                def                 if                  raise\n",
            "and                 del                 import              return\n",
            "as                  elif                in                  try\n",
            "assert              else                is                  while\n",
            "async               except              lambda              with\n",
            "await               finally             nonlocal            yield\n",
            "break               for                 not                 \n",
            "\n"
          ]
        }
      ]
    },
    {
      "cell_type": "code",
      "source": [
        "#4. Write a program that checks if a given word is a Python keyword.\n",
        "import keyword\n",
        "word = input(\"Enter a word: \")\n",
        "print(keyword.iskeyword(word))"
      ],
      "metadata": {
        "colab": {
          "base_uri": "https://localhost:8080/"
        },
        "id": "yTE4IEmvGLEZ",
        "outputId": "6ea3370c-2e58-4542-9cb3-db5a2aa0c0f9"
      },
      "execution_count": 10,
      "outputs": [
        {
          "output_type": "stream",
          "name": "stdout",
          "text": [
            "Enter a word: class\n",
            "True\n"
          ]
        }
      ]
    },
    {
      "cell_type": "code",
      "source": [
        "#5. Create a list and tuple in Python, and demonstrate how attempting to change an element works differently for each.\n",
        "\n",
        "my_list = [1, 2, 3]\n",
        "my_tuple = (1, 2, 3)\n",
        "\n",
        "my_list[0] = 100  # Works\n",
        "print(my_list)"
      ],
      "metadata": {
        "colab": {
          "base_uri": "https://localhost:8080/"
        },
        "id": "F1pCrjb_GgMK",
        "outputId": "8bd12e48-60f3-4846-dfaa-d6be2a75cea7"
      },
      "execution_count": 11,
      "outputs": [
        {
          "output_type": "stream",
          "name": "stdout",
          "text": [
            "[100, 2, 3]\n"
          ]
        }
      ]
    },
    {
      "cell_type": "code",
      "source": [
        "#6.  Write a function to demonstrate the behavior of mutable and immutable arguments.\n",
        "#MUTABLE\n",
        "a=[1,2,3,4]\n",
        "a[0]   #if we run the code till here, it will 1 as a output as 1 is at the 0th index.\n",
        "\n",
        "a[0]=1000   #here we updated the 0th index to 1000.\n",
        "a            #if we run a the output is as below ([1000, 2, 3, 4])."
      ],
      "metadata": {
        "colab": {
          "base_uri": "https://localhost:8080/"
        },
        "id": "Ypzg2ZxpGwAS",
        "outputId": "6339d602-66f5-4c0e-ef56-d7e85cef21d2"
      },
      "execution_count": 13,
      "outputs": [
        {
          "output_type": "execute_result",
          "data": {
            "text/plain": [
              "[1000, 2, 3, 4]"
            ]
          },
          "metadata": {},
          "execution_count": 13
        }
      ]
    },
    {
      "cell_type": "code",
      "source": [
        "# IMMUTABLE\n",
        "a=\"Shobhit Negi\"\n",
        "a"
      ],
      "metadata": {
        "colab": {
          "base_uri": "https://localhost:8080/",
          "height": 36
        },
        "id": "hkDtACuzIBcx",
        "outputId": "24c37bfe-84bb-43fd-c142-660a09a753bb"
      },
      "execution_count": 16,
      "outputs": [
        {
          "output_type": "execute_result",
          "data": {
            "text/plain": [
              "'Shobhit Negi'"
            ],
            "application/vnd.google.colaboratory.intrinsic+json": {
              "type": "string"
            }
          },
          "metadata": {},
          "execution_count": 16
        }
      ]
    },
    {
      "cell_type": "code",
      "source": [
        "#7. Write a program that performs basic arithmetic operations on two user-input numbers\n",
        "a = int(input(\"Enter first number: \"))\n",
        "b = int(input(\"Enter second number: \"))\n",
        "print(\"Sum:\", a + b)\n",
        "print(\"Difference:\", a - b)\n",
        "print(\"Product:\", a * b)"
      ],
      "metadata": {
        "colab": {
          "base_uri": "https://localhost:8080/"
        },
        "id": "EPs2F6uyIXk4",
        "outputId": "a5701f8a-f8af-48f5-996f-27b7057982ee"
      },
      "execution_count": 18,
      "outputs": [
        {
          "output_type": "stream",
          "name": "stdout",
          "text": [
            "Enter first number: 34\n",
            "Enter second number: 56\n",
            "Sum: 90\n",
            "Difference: -22\n",
            "Product: 1904\n"
          ]
        }
      ]
    },
    {
      "cell_type": "code",
      "source": [
        "#8. Write a program to demonstrate the use of logical operators\n",
        "x = 5\n",
        "y = 10\n",
        "print(x > 2 and y > 5)   # True\n",
        "print(x > 10 or y < 15)  # True\n",
        "print(not(x == 5))       # False"
      ],
      "metadata": {
        "colab": {
          "base_uri": "https://localhost:8080/"
        },
        "id": "i3YGTvMbI0Uy",
        "outputId": "f8e606e8-0f17-47d7-fe1c-1c213be3ada4"
      },
      "execution_count": 19,
      "outputs": [
        {
          "output_type": "stream",
          "name": "stdout",
          "text": [
            "True\n",
            "True\n",
            "False\n"
          ]
        }
      ]
    },
    {
      "cell_type": "code",
      "source": [
        "#9.  Write a Python program to convert user input from string to integer, float, and boolean types.\n",
        "a = input(\"Enter something: \")\n",
        "print(int(a))\n",
        "print(float(a))\n",
        "print(bool(a))"
      ],
      "metadata": {
        "colab": {
          "base_uri": "https://localhost:8080/"
        },
        "id": "nmLzZGm9JCUQ",
        "outputId": "9405b7b3-e5bc-42ad-ec4a-cf196acd7522"
      },
      "execution_count": 22,
      "outputs": [
        {
          "output_type": "stream",
          "name": "stdout",
          "text": [
            "Enter something: 56\n",
            "56\n",
            "56.0\n",
            "True\n"
          ]
        }
      ]
    },
    {
      "cell_type": "code",
      "source": [
        "#10.  Write code to demonstrate type casting with list elements.\n",
        "a = ['1', '2', '3'] # as the numbers are in between \"\", hence they are strings.\n",
        "a = [int(x) for x in a]\n",
        "print(a)"
      ],
      "metadata": {
        "colab": {
          "base_uri": "https://localhost:8080/"
        },
        "id": "yu6xXto8JW4g",
        "outputId": "84db5228-4c6d-4ddd-e410-4508e1923f35"
      },
      "execution_count": 25,
      "outputs": [
        {
          "output_type": "stream",
          "name": "stdout",
          "text": [
            "[1, 2, 3]\n"
          ]
        }
      ]
    },
    {
      "cell_type": "code",
      "source": [
        "#11. Write a program that checks if a number is positive, negative, or zero.\n",
        "num = int(input(\"Enter a number: \"))\n",
        "if num > 0:\n",
        "    print(\"Positive\")\n",
        "elif num < 0:\n",
        "    print(\"Negative\")\n",
        "else:\n",
        "    print(\"Zero\")"
      ],
      "metadata": {
        "colab": {
          "base_uri": "https://localhost:8080/"
        },
        "id": "tmg3sC9_J63p",
        "outputId": "8a439914-348a-4980-b968-35d9d9941e46"
      },
      "execution_count": 29,
      "outputs": [
        {
          "output_type": "stream",
          "name": "stdout",
          "text": [
            "Enter a number: -3\n",
            "Negative\n"
          ]
        }
      ]
    },
    {
      "cell_type": "code",
      "source": [
        "#12. Write a for loop to print numbers from 1 to 10.\n",
        "for i in range(1, 11):\n",
        "    print(i)"
      ],
      "metadata": {
        "colab": {
          "base_uri": "https://localhost:8080/"
        },
        "id": "-ZGThFqzKN5C",
        "outputId": "e08f9c14-f2ac-4b9d-d5af-1c1a98c0a773"
      },
      "execution_count": 30,
      "outputs": [
        {
          "output_type": "stream",
          "name": "stdout",
          "text": [
            "1\n",
            "2\n",
            "3\n",
            "4\n",
            "5\n",
            "6\n",
            "7\n",
            "8\n",
            "9\n",
            "10\n"
          ]
        }
      ]
    },
    {
      "cell_type": "code",
      "source": [
        "#13. Write a Python program to find the sum of all even numbers between 1 and 50.\n",
        "total = 0\n",
        "for i in range(1, 51):\n",
        "    if i % 2 == 0:\n",
        "        total += i\n",
        "print(\"Sum:\", total)"
      ],
      "metadata": {
        "colab": {
          "base_uri": "https://localhost:8080/"
        },
        "id": "j3txv0bnKVCh",
        "outputId": "f401ef35-2efd-4584-859c-9cca42f3a2a2"
      },
      "execution_count": 31,
      "outputs": [
        {
          "output_type": "stream",
          "name": "stdout",
          "text": [
            "Sum: 650\n"
          ]
        }
      ]
    },
    {
      "cell_type": "code",
      "source": [
        "#14.  Write a program to reverse a string using a while loop.\n"
      ],
      "metadata": {
        "id": "sTKSpc55Kj6K"
      },
      "execution_count": null,
      "outputs": []
    },
    {
      "cell_type": "code",
      "source": [
        "#15.  Write a Python program to calculate the factorial of a number provided by the user using a while loop."
      ],
      "metadata": {
        "id": "dJCbiFc0KrLp"
      },
      "execution_count": null,
      "outputs": []
    }
  ]
}